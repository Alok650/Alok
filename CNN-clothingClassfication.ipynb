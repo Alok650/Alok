{
  "nbformat": 4,
  "nbformat_minor": 0,
  "metadata": {
    "accelerator": "GPU",
    "colab": {
      "name": "Copy of CNN_ (1).ipynb",
      "provenance": []
    },
    "kernelspec": {
      "display_name": "Python 3",
      "language": "python",
      "name": "python3"
    },
    "language_info": {
      "codemirror_mode": {
        "name": "ipython",
        "version": 3
      },
      "file_extension": ".py",
      "mimetype": "text/x-python",
      "name": "python",
      "nbconvert_exporter": "python",
      "pygments_lexer": "ipython3",
      "version": "3.9.1"
    }
  },
  "cells": [
    {
      "cell_type": "markdown",
      "metadata": {
        "id": "ZQ-P4zsKuaQG"
      },
      "source": [
        "<h1 align='center' style='color:purple'><b>CNN</b></h1>\n",
        "\n",
        "In this project, I have used the Keras Tuner to find the best hyperparameters for a machine learning model that classifies images of clothing from the Fashion MNIST dataset."
      ]
    },
    {
      "cell_type": "code",
      "metadata": {
        "colab": {
          "base_uri": "https://localhost:8080/"
        },
        "id": "GmDR7RUE2YbZ",
        "outputId": "ebb6bbb3-065f-4662-ce91-475e0e28c31b"
      },
      "source": [
        "#  Keras Tuner is a library that helps you pick the optimal set of hyperparameters for your TensorFlow program. \n",
        "# The process of selecting the right set of hyperparameters for your machine learning (ML) application is called hyperparameter tuning or hypertuning.\n",
        "\n",
        "!pip install keras-tuner"
      ],
      "execution_count": null,
      "outputs": [
        {
          "output_type": "stream",
          "text": [
            "Requirement already satisfied: keras-tuner in c:\\users\\rahul\\appdata\\local\\programs\\python\\python39\\lib\\site-packages (1.0.2)\n",
            "Requirement already satisfied: packaging in c:\\users\\rahul\\appdata\\local\\programs\\python\\python39\\lib\\site-packages (from keras-tuner) (20.9)\n",
            "Requirement already satisfied: future in c:\\users\\rahul\\appdata\\local\\programs\\python\\python39\\lib\\site-packages (from keras-tuner) (0.18.2)\n",
            "Requirement already satisfied: numpy in c:\\users\\rahul\\appdata\\local\\programs\\python\\python39\\lib\\site-packages (from keras-tuner) (1.19.5)\n",
            "Requirement already satisfied: tabulate in c:\\users\\rahul\\appdata\\local\\programs\\python\\python39\\lib\\site-packages (from keras-tuner) (0.8.9)\n",
            "Requirement already satisfied: terminaltables in c:\\users\\rahul\\appdata\\local\\programs\\python\\python39\\lib\\site-packages (from keras-tuner) (3.1.0)\n",
            "Requirement already satisfied: colorama in c:\\users\\rahul\\appdata\\local\\programs\\python\\python39\\lib\\site-packages (from keras-tuner) (0.4.4)\n",
            "Requirement already satisfied: tqdm in c:\\users\\rahul\\appdata\\local\\programs\\python\\python39\\lib\\site-packages (from keras-tuner) (4.60.0)\n",
            "Requirement already satisfied: requests in c:\\users\\rahul\\appdata\\local\\programs\\python\\python39\\lib\\site-packages (from keras-tuner) (2.25.1)\n",
            "Requirement already satisfied: scipy in c:\\users\\rahul\\appdata\\local\\programs\\python\\python39\\lib\\site-packages (from keras-tuner) (1.6.1)\n",
            "Requirement already satisfied: scikit-learn in c:\\users\\rahul\\appdata\\local\\programs\\python\\python39\\lib\\site-packages (from keras-tuner) (0.24.1)\n",
            "Requirement already satisfied: pyparsing>=2.0.2 in c:\\users\\rahul\\appdata\\local\\programs\\python\\python39\\lib\\site-packages (from packaging->keras-tuner) (2.4.7)\n",
            "Requirement already satisfied: certifi>=2017.4.17 in c:\\users\\rahul\\appdata\\local\\programs\\python\\python39\\lib\\site-packages (from requests->keras-tuner) (2020.12.5)\n",
            "Requirement already satisfied: chardet<5,>=3.0.2 in c:\\users\\rahul\\appdata\\local\\programs\\python\\python39\\lib\\site-packages (from requests->keras-tuner) (4.0.0)\n",
            "Requirement already satisfied: idna<3,>=2.5 in c:\\users\\rahul\\appdata\\local\\programs\\python\\python39\\lib\\site-packages (from requests->keras-tuner) (2.10)\n",
            "Requirement already satisfied: urllib3<1.27,>=1.21.1 in c:\\users\\rahul\\appdata\\local\\programs\\python\\python39\\lib\\site-packages (from requests->keras-tuner) (1.26.3)\n",
            "Requirement already satisfied: joblib>=0.11 in c:\\users\\rahul\\appdata\\local\\programs\\python\\python39\\lib\\site-packages (from scikit-learn->keras-tuner) (1.0.1)\n",
            "Requirement already satisfied: threadpoolctl>=2.0.0 in c:\\users\\rahul\\appdata\\local\\programs\\python\\python39\\lib\\site-packages (from scikit-learn->keras-tuner) (2.1.0)\n"
          ],
          "name": "stdout"
        },
        {
          "output_type": "stream",
          "text": [
            "WARNING: You are using pip version 21.0.1; however, version 21.1.1 is available.\n",
            "You should consider upgrading via the 'c:\\users\\rahul\\appdata\\local\\programs\\python\\python39\\python.exe -m pip install --upgrade pip' command.\n"
          ],
          "name": "stderr"
        }
      ]
    },
    {
      "cell_type": "markdown",
      "metadata": {
        "id": "S1fiThoRy8_x"
      },
      "source": [
        "### Import Libraries"
      ]
    },
    {
      "cell_type": "code",
      "metadata": {
        "id": "FAIGLIHj2m1P"
      },
      "source": [
        "import tensorflow as tf\n",
        "from tensorflow import keras\n",
        "import numpy as np"
      ],
      "execution_count": null,
      "outputs": []
    },
    {
      "cell_type": "code",
      "metadata": {
        "id": "G4ef69yQ2vVW"
      },
      "source": [
        "# Import Dataset\n",
        "fashion_mnist=keras.datasets.fashion_mnist"
      ],
      "execution_count": null,
      "outputs": []
    },
    {
      "cell_type": "code",
      "metadata": {
        "colab": {
          "base_uri": "https://localhost:8080/"
        },
        "id": "pyANVO0c2_Wv",
        "outputId": "abcf0547-d19a-403f-beb9-833cc60b9a35"
      },
      "source": [
        "# Load Training and Testing Data\n",
        "(train_images,train_labels),(test_images,test_labels)=fashion_mnist.load_data()"
      ],
      "execution_count": null,
      "outputs": [
        {
          "output_type": "stream",
          "text": [
            "Downloading data from https://storage.googleapis.com/tensorflow/tf-keras-datasets/train-labels-idx1-ubyte.gz\n",
            "32768/29515 [=================================] - 0s 3us/step\n",
            "Downloading data from https://storage.googleapis.com/tensorflow/tf-keras-datasets/train-images-idx3-ubyte.gz\n",
            "26427392/26421880 [==============================] - 8s 0us/step\n",
            "Downloading data from https://storage.googleapis.com/tensorflow/tf-keras-datasets/t10k-labels-idx1-ubyte.gz\n",
            "8192/5148 [===============================================] - 0s 0us/step\n",
            "Downloading data from https://storage.googleapis.com/tensorflow/tf-keras-datasets/t10k-images-idx3-ubyte.gz\n",
            "4423680/4422102 [==============================] - 2s 0us/step\n"
          ],
          "name": "stdout"
        }
      ]
    },
    {
      "cell_type": "code",
      "metadata": {
        "id": "5xnVsYgI3D0K"
      },
      "source": [
        "# Normalize pixel values, as the values are in range of 0-255, Divide it by 255 to convert the range to 0-1.\n",
        "train_images=train_images/255.0\n",
        "test_images=test_images/255.0"
      ],
      "execution_count": null,
      "outputs": []
    },
    {
      "cell_type": "code",
      "metadata": {
        "colab": {
          "base_uri": "https://localhost:8080/"
        },
        "id": "1kxu_WLc3Hda",
        "outputId": "bde6e42f-d139-447f-cb68-41ab9977247e"
      },
      "source": [
        "print('Shape of Training Data',train_images[0].shape)"
      ],
      "execution_count": null,
      "outputs": [
        {
          "output_type": "stream",
          "text": [
            "Shape of Training Data (28, 28)\n"
          ],
          "name": "stdout"
        }
      ]
    },
    {
      "cell_type": "code",
      "metadata": {
        "id": "pORIE2wl3KMU"
      },
      "source": [
        "# Reshape Data\n",
        "train_images = train_images.reshape(len(train_images),28,28,1)\n",
        "test_images = test_images.reshape(len(test_images),28,28,1)"
      ],
      "execution_count": null,
      "outputs": []
    },
    {
      "cell_type": "code",
      "metadata": {
        "id": "b5QaKDPU4aUy"
      },
      "source": [
        "# Define a function build_model which returns a compiled model and uses hyperparameters you define inline to hypertune the model.\n",
        "\n",
        "def build_model(hp):  \n",
        "  model = keras.Sequential([\n",
        "    keras.layers.Conv2D(\n",
        "        filters=hp.Int('conv_1_filter', min_value=32, max_value=128, step=16),\n",
        "        kernel_size=hp.Choice('conv_1_kernel', values = [3,5]),\n",
        "        activation='relu',\n",
        "        input_shape=(28,28,1)\n",
        "    ),\n",
        "    keras.layers.Conv2D(\n",
        "        filters=hp.Int('conv_2_filter', min_value=32, max_value=64, step=16),\n",
        "        kernel_size=hp.Choice('conv_2_kernel', values = [3,5]),\n",
        "        activation='relu'\n",
        "    ),\n",
        "    keras.layers.Flatten(),\n",
        "    keras.layers.Dense(\n",
        "        units=hp.Int('dense_1_units', min_value=32, max_value=128, step=16),\n",
        "        activation='relu'\n",
        "    ),\n",
        "    keras.layers.Dense(10, activation='softmax')#output layer\n",
        "  ])\n",
        "  \n",
        "  model.compile(optimizer=keras.optimizers.Adam(hp.Choice('learning_rate', values=[1e-2, 1e-3])),\n",
        "              loss='sparse_categorical_crossentropy',\n",
        "              metrics=['accuracy'])\n",
        "  \n",
        "  return model"
      ],
      "execution_count": null,
      "outputs": []
    },
    {
      "cell_type": "code",
      "metadata": {
        "id": "fX_lXxpP4go7"
      },
      "source": [
        "# Import RandomSearch to perform parameter tuning\n",
        "from kerastuner import RandomSearch\n",
        "\n",
        "# Import HyperParameters, it serves as a hyerparameter container. A HyperParameters instance contains information about \n",
        "# both the search space and the current values of each hyperparameter. Hyperparameters can be defined inline with the \n",
        "# model-building code that uses them. This saves you from having to define the list of parameters every time.\n",
        "from kerastuner.engine.hyperparameters import HyperParameters"
      ],
      "execution_count": null,
      "outputs": []
    },
    {
      "cell_type": "code",
      "metadata": {
        "id": "vzba1Bed4kfK"
      },
      "source": [
        "tuner_search=RandomSearch(build_model,\n",
        "                          objective='val_accuracy',\n",
        "                          max_trials=5,directory='output',project_name=\"Mnist Fashion\")"
      ],
      "execution_count": null,
      "outputs": []
    },
    {
      "cell_type": "code",
      "metadata": {
        "colab": {
          "base_uri": "https://localhost:8080/"
        },
        "id": "Qh2im1JW4nid",
        "outputId": "999aee77-09bc-421d-8c3d-d1f85388417f"
      },
      "source": [
        "# Run the hyperparameter search.\n",
        "tuner_search.search(train_images,train_labels,epochs=3,validation_split=0.1,batch_size=128)"
      ],
      "execution_count": null,
      "outputs": [
        {
          "output_type": "stream",
          "text": [
            "\n",
            "Search: Running Trial #3\n",
            "\n",
            "Hyperparameter    |Value             |Best Value So Far \n",
            "conv_1_filter     |64                |?                 \n",
            "conv_1_kernel     |5                 |?                 \n",
            "conv_2_filter     |32                |?                 \n",
            "conv_2_kernel     |5                 |?                 \n",
            "dense_1_units     |96                |?                 \n",
            "learning_rate     |0.001             |?                 \n",
            "\n",
            "Epoch 1/3\n",
            " 22/422 [>.............................] - ETA: 4:05 - loss: 1.1244 - accuracy: 0.5849"
          ],
          "name": "stdout"
        }
      ]
    },
    {
      "cell_type": "code",
      "metadata": {
        "id": "IPCyYhwjEef_"
      },
      "source": [
        "# Get Best model using .get_best_models attribute of tuner\n",
        "model=tuner_search.get_best_models(num_models=1)[0]"
      ],
      "execution_count": null,
      "outputs": []
    },
    {
      "cell_type": "code",
      "metadata": {
        "colab": {
          "base_uri": "https://localhost:8080/"
        },
        "id": "HHGZLdl7IeZ8",
        "outputId": "c2bcce02-5ac9-4180-b351-ac23f1369eb2"
      },
      "source": [
        "# print best model summary\n",
        "model.summary()"
      ],
      "execution_count": null,
      "outputs": [
        {
          "output_type": "stream",
          "text": [
            "Model: \"sequential\"\n",
            "_________________________________________________________________\n",
            "Layer (type)                 Output Shape              Param #   \n",
            "=================================================================\n",
            "conv2d (Conv2D)              (None, 26, 26, 32)        320       \n",
            "_________________________________________________________________\n",
            "conv2d_1 (Conv2D)            (None, 24, 24, 32)        9248      \n",
            "_________________________________________________________________\n",
            "flatten (Flatten)            (None, 18432)             0         \n",
            "_________________________________________________________________\n",
            "dense (Dense)                (None, 96)                1769568   \n",
            "_________________________________________________________________\n",
            "dense_1 (Dense)              (None, 10)                970       \n",
            "=================================================================\n",
            "Total params: 1,780,106\n",
            "Trainable params: 1,780,106\n",
            "Non-trainable params: 0\n",
            "_________________________________________________________________\n"
          ],
          "name": "stdout"
        }
      ]
    }
  ]
}